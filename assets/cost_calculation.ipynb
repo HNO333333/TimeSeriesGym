{
 "cells": [
  {
   "cell_type": "code",
   "execution_count": null,
   "metadata": {},
   "outputs": [],
   "source": [
    "compid2name = mapping = {\n",
    "    \"resnet-tensorflow-to-pytorch\": \"Familiarity W/ Coding Resnet\",\n",
    "    \"gift-eval-short-horizon\": \"GIFT-Eval\",\n",
    "    \"ptb-xl-classification-challenge-feature-enhancement\": \"PTB-XL ECG Classification with feature enhancement\",\n",
    "    \"optiver-realized-volatility-prediction-hyperparameter-search\": \"Optiver Realized Volatility Prediction with Hyperparameter Search\",\n",
    "    \"moment-anomaly-detection-score\": \"MOMENT Anomaly Score calculation\",\n",
    "    \"ventilator-pressure-prediction-missing\": \"Google Brain - Ventilator Pressure Prediction with Missingness\",\n",
    "    \"time-series-library-long-horizon-forecast\": \"Time Series Library Long Horizon Forecast Dataset\",\n",
    "    \"child-mind-institute-detect-sleep-states\": \"Child Mind Institute-- Detect Sleep States\",\n",
    "    \"MIT-BIH-Arrhythmia\": \"MIT-BIH Arrhythmia Detection\",\n",
    "    \"hms-harmful-brain-activity-classification\": \"HMS - Harmful Brain Activity Classification\",\n",
    "    \"time-series-library-itransformer-weather-forecast\": \"Time Series Library iTransformer block implementation\",\n",
    "    \"time-series-exam-1-1\": \"TimeSeriesExam-1\",\n",
    "    \"ptb-xl-classification-challenge\": \"PTB-XL ECG Classification\",\n",
    "    \"csdi-implement-model-pm25\": \"CSDI challenge implement pm2.5\",\n",
    "    \"LANL-Earthquake-Prediction\": \"LANL Earthquake Prediction\",\n",
    "    \"ashrae-energy-prediction\": \"ashrae-energy-prediction\",\n",
    "    \"optiver-realized-volatility-prediction-missing\": \"Optiver Realized Volatility Prediction with Missingness\",\n",
    "    \"MIT-BIH-Arrhythmia-Weak-Supervision\": \"MIT-BIH Arrhythmia Detection with Weak Supervision\",\n",
    "    \"online-sales\": \"Online Product Sales\",\n",
    "    \"optiver-realized-volatility-prediction\": \"Optiver Realized Volatility Prediction\",\n",
    "    \"m5-forecasting-accuracy\": \"M5 Forecasting - Accuracy\",\n",
    "    \"amp-parkinsons-disease-progression-prediction\": \"AMP-Parkinson's Disease Progression Prediction\",\n",
    "    \"ventilator-pressure-prediction\": \"Google Brain - Ventilator Pressure Prediction\",\n",
    "    \"sberbank-russian-housing-market\": \"sberbank-russian-housing-market\",\n",
    "    \"stomp-R-to-python\": \"Familiarity W/ Coding STOMP\",\n",
    "    \"ucr-anomaly-detection\": \"UCR Anolmaly Detection Dataset\",\n",
    "    \"recruit-restaurant-visitor-forecasting\": \"Recruit Restaurant Visitor Forecasting\",\n",
    "    \"g2net-gravitational-wave-detection\": \"G2Net Gravitational Wave Detection\",\n",
    "    \"context-is-key-moirai\": \"context-is-key-moirai\",\n",
    "    \"context-is-key-nn5-chronos\": \"context-is-key-nn5-chronos\",\n",
    "    \"ptb-xl-classification-challenge-hyperparameter-search\": \"PTB-XL ECG Classification with Hyperparameter Search\",\n",
    "    \"csdi-reproduce-pm25\": \"CSDI challenge reproduce pm2.5\"\n",
    "}\n",
    "\n",
    "compname2id = {v: k for k, v in mapping.items()}"
   ]
  },
  {
   "cell_type": "code",
   "execution_count": 23,
   "metadata": {},
   "outputs": [
    {
     "name": "stdout",
     "output_type": "stream",
     "text": [
      "Could not find the cost in /raid/xinyul2/runs/2025-05-06T16-04-50-GMT_run-group_aide/online-sales_87b34d50-1314-4a6c-82d4-54ca990c8676/run.log, seed 0, compname Online Product Sales\n",
      "Could not find the cost in /raid/xinyul2/runs/2025-05-06T16-04-50-GMT_run-group_aide/recruit-restaurant-visitor-forecasting_b109053c-5070-4b5d-8cc2-8975389a45dc/run.log, seed 0, compname Recruit Restaurant Visitor Forecasting\n",
      "Could not find the cost in /raid/xinyul2/runs/2025-05-06T15-55-42-GMT_run-group_aide/sberbank-russian-housing-market_1c0aec39-bd08-478b-be70-327bd4fb1244/run.log, seed 0, compname sberbank-russian-housing-market\n",
      "Could not find the cost in /raid/xinyul2/runs/2025-05-06T15-55-42-GMT_run-group_aide/ashrae-energy-prediction_4107d508-072e-4835-bf2d-8752c37b74f1/run.log, seed 0, compname ashrae-energy-prediction\n",
      "Could not find the cost in /raid/xinyul2/runs/2025-05-06T23-36-54-GMT_run-group_aide/m5-forecasting-accuracy_ccb17e78-0d1d-4a03-8fc2-a2ebff4dab7b/run.log, seed 0, compname M5 Forecasting - Accuracy\n",
      "Could not find the cost in /raid/xinyul2/runs/2025-05-06T22-29-20-GMT_run-group_aide/optiver-realized-volatility-prediction-missing_38390adf-7007-4309-a813-3ac356c1999f/run.log, seed 0, compname Optiver Realized Volatility Prediction\n",
      "Could not find the cost in /raid/xinyul2/runs/2025-05-06T22-29-20-GMT_run-group_aide/optiver-realized-volatility-prediction-missing_38390adf-7007-4309-a813-3ac356c1999f/run.log, seed 0, compname Optiver Realized Volatility Prediction with Missingness\n",
      "Could not find the cost in /raid/xinyul2/runs/2025-05-06T22-29-20-GMT_run-group_aide/optiver-realized-volatility-prediction-hyperparameter-search_6ef061c9-a48d-46a0-b9b4-b353069ff73c/run.log, seed 0, compname Optiver Realized Volatility Prediction with Hyperparameter Search\n",
      "Could not find the cost in /raid/xinyul2/runs/2025-05-06T23-36-54-GMT_run-group_aide/ventilator-pressure-prediction_b9869a3d-8219-4d7b-b0c8-274211b1ed19/run.log, seed 0, compname Google Brain - Ventilator Pressure Prediction\n",
      "Could not find the cost in /raid/xinyul2/runs/2025-05-06T23-36-54-GMT_run-group_aide/ventilator-pressure-prediction-missing_84ec404d-54d0-471c-b038-6a5732c352b1/run.log, seed 0, compname Google Brain - Ventilator Pressure Prediction with Missingness\n",
      "Seed 0 total cost: 58.50 USD\n",
      "Could not find the cost in /raid/xinyul2/runs/2025-05-10T23-07-11-GMT_run-group_aide/LANL-Earthquake-Prediction_4bb9b2b4-3e82-4738-84a7-d0744742e492/run.log, seed 1, compname LANL Earthquake Prediction\n",
      "Seed 1 total cost: 51.63 USD\n",
      "Could not find the cost in /raid/xinyul2/runs/2025-05-10T23-07-11-GMT_run-group_aide/LANL-Earthquake-Prediction_4bb9b2b4-3e82-4738-84a7-d0744742e492/run.log, seed 2, compname LANL Earthquake Prediction\n",
      "Seed 2 total cost: 51.63 USD\n"
     ]
    }
   ],
   "source": [
    "import pandas as pd \n",
    "import re \n",
    "import os \n",
    "from pathlib import Path\n",
    "run_dir = Path('/raid/xinyul2/runs') \n",
    "\n",
    "total_costs = []\n",
    "comp_cost = dict()\n",
    "not_found = []\n",
    "for seed in [0, 1, 2]:\n",
    "    seed_cost = 0 \n",
    "    df = pd.read_csv(f'seed{seed}.csv')\n",
    "    df = df.loc[:31]\n",
    "    for i, row in df.iterrows():\n",
    "        compname = row['Challenge'].strip()\n",
    "        compid = compname2id[compname]\n",
    "        run_folder_name = row['Run Group Folder Name ']\n",
    "\n",
    "        #find the run folder name which is compid_{some random encoding}\n",
    "        comp_folder_name = [f for f in os.listdir(run_dir / run_folder_name) if f.startswith(compid)][0]\n",
    "        log_path = f'{run_dir}/{run_folder_name}/{comp_folder_name}/run.log'\n",
    "\n",
    "        pattern = re.compile(r\"Total cost after current step: ([0-9.]+) USD\")\n",
    "        last = None\n",
    "\n",
    "        with open(log_path, \"r\") as f:\n",
    "            for line in f:\n",
    "                m = pattern.search(line)\n",
    "                if m:\n",
    "                    last = float(m.group(1))\n",
    "        \n",
    "        if compid in comp_cost:\n",
    "            comp_cost[compid].append(last)\n",
    "        else:\n",
    "            comp_cost[compid] = [last]\n",
    "            \n",
    "        if last is None:\n",
    "            not_found.append(f\"{compid}_{seed}\")\n",
    "            print(f\"Could not find the cost in {log_path}, seed {seed}, compname {compname}\")\n",
    "            continue\n",
    "        \n",
    "        seed_cost += last\n",
    "    total_costs.append(seed_cost)\n",
    "    print(f\"Seed {seed} total cost: {seed_cost:.2f} USD\")"
   ]
  },
  {
   "cell_type": "code",
   "execution_count": 26,
   "metadata": {},
   "outputs": [
    {
     "name": "stdout",
     "output_type": "stream",
     "text": [
      "Seed 0 total cost: 66.70 USD\n",
      "Seed 1 total cost: 59.83 USD\n",
      "Seed 2 total cost: 59.83 USD\n",
      "Average cost: 62.12 USD\n"
     ]
    }
   ],
   "source": [
    "#fill none with avergae cost \n",
    "from copy import deepcopy\n",
    "comp_cost_ = deepcopy(comp_cost)\n",
    "for k, v in comp_cost_.items():\n",
    "    none_count = v.count(None)\n",
    "    if none_count > 0:\n",
    "        avg = sum([x for x in v if x is not None]) / (len(v) - none_count)\n",
    "        for i in range(len(v)):\n",
    "            if v[i] is None:\n",
    "                v[i] = avg\n",
    "\n",
    "seed_cost = [] \n",
    "for i in range(3):\n",
    "    seed_cost.append(sum([comp_cost_[k][i] for k in comp_cost_.keys()]))\n",
    "    print(f\"Seed {i} total cost: {seed_cost[i]:.2f} USD\")\n",
    "print(f\"Average cost: {sum(seed_cost) / 3:.2f} USD\")"
   ]
  },
  {
   "cell_type": "code",
   "execution_count": null,
   "metadata": {},
   "outputs": [
    {
     "name": "stdout",
     "output_type": "stream",
     "text": [
      "Lite Seed 0 total cost: 7.93 USD\n",
      "Lite Seed 1 total cost: 7.98 USD\n",
      "Lite Seed 2 total cost: 7.98 USD\n",
      "Lite Average cost: 7.96 USD\n"
     ]
    }
   ],
   "source": [
    "#get lite version\n",
    "lite_names = [\"Familiarity W/ Coding Resnet\", \"MOMENT Anomaly Score calculation\",  \"Optiver Realized Volatility Prediction with Missingness\",\n",
    "              \"MIT-BIH Arrhythmia Detection with Weak Supervision\", \"PTB-XL ECG Classification with Hyperparameter Search\", \n",
    "              \"Child Mind Institute-- Detect Sleep States\"]\n",
    "\n",
    "lite_cost = []\n",
    "for i in range(3):\n",
    "    lite_cost.append(sum([comp_cost_[k][i] for k in comp_cost_.keys() if compid2name[k] in lite_names]))\n",
    "    print(f\"Lite Seed {i} total cost: {lite_cost[i]:.2f} USD\")\n",
    "print(f\"Lite Average cost: {sum(lite_cost) / 3:.2f} USD\") "
   ]
  }
 ],
 "metadata": {
  "kernelspec": {
   "display_name": "timeseriesgym",
   "language": "python",
   "name": "python3"
  },
  "language_info": {
   "codemirror_mode": {
    "name": "ipython",
    "version": 3
   },
   "file_extension": ".py",
   "mimetype": "text/x-python",
   "name": "python",
   "nbconvert_exporter": "python",
   "pygments_lexer": "ipython3",
   "version": "3.12.0"
  }
 },
 "nbformat": 4,
 "nbformat_minor": 2
}
